{
 "cells": [
  {
   "cell_type": "markdown",
   "metadata": {},
   "source": [
    "Придумайте матрицы, которые обладают следующими свойствами:\n",
    "a) диагональная, ортогональная, но не единичная(!):"
   ]
  },
  {
   "cell_type": "code",
   "execution_count": 123,
   "metadata": {},
   "outputs": [
    {
     "data": {
      "text/latex": [
       "$\\displaystyle \\left[\\begin{matrix}-1 & 0 & 0\\\\0 & 1 & 0\\\\0 & 0 & -1\\end{matrix}\\right]$"
      ],
      "text/plain": [
       "⎡-1  0  0 ⎤\n",
       "⎢         ⎥\n",
       "⎢0   1  0 ⎥\n",
       "⎢         ⎥\n",
       "⎣0   0  -1⎦"
      ]
     },
     "execution_count": 123,
     "metadata": {},
     "output_type": "execute_result"
    }
   ],
   "source": [
    "import numpy as np\n",
    "from scipy import linalg\n",
    "from sympy import *\n",
    "init_printing()\n",
    "# Если я проавильно понимаю, то технически она не единичная.\n",
    "A = Matrix([[-1, 0, 0],[0,1,0], [0,0,-1]])\n",
    "A"
   ]
  },
  {
   "cell_type": "code",
   "execution_count": 124,
   "metadata": {},
   "outputs": [
    {
     "data": {
      "text/latex": [
       "$\\displaystyle \\left[\\begin{matrix}1 & 0 & 0\\\\0 & 1 & 0\\\\0 & 0 & 1\\end{matrix}\\right]$"
      ],
      "text/plain": [
       "⎡1  0  0⎤\n",
       "⎢       ⎥\n",
       "⎢0  1  0⎥\n",
       "⎢       ⎥\n",
       "⎣0  0  1⎦"
      ]
     },
     "execution_count": 124,
     "metadata": {},
     "output_type": "execute_result"
    }
   ],
   "source": [
    "A*A.transpose()"
   ]
  },
  {
   "cell_type": "markdown",
   "metadata": {},
   "source": [
    "d) матрица, у которой определитель = 1, и все элементы не равны 0:"
   ]
  },
  {
   "cell_type": "code",
   "execution_count": 106,
   "metadata": {},
   "outputs": [
    {
     "data": {
      "text/latex": [
       "$\\displaystyle \\left[\\begin{matrix}2 & 1 & 1\\\\3 & 1 & 2\\\\-2 & -2 & -1\\end{matrix}\\right]$"
      ],
      "text/plain": [
       "⎡2   1   1 ⎤\n",
       "⎢          ⎥\n",
       "⎢3   1   2 ⎥\n",
       "⎢          ⎥\n",
       "⎣-2  -2  -1⎦"
      ]
     },
     "execution_count": 106,
     "metadata": {},
     "output_type": "execute_result"
    }
   ],
   "source": [
    "Det = Matrix([[2,1,1],[3,1,2],[-2,-2,-1]])\n",
    "Det"
   ]
  },
  {
   "cell_type": "code",
   "execution_count": 107,
   "metadata": {},
   "outputs": [
    {
     "data": {
      "image/png": "[encoded data removed]",
      "text/latex": [
       "$\\displaystyle 1$"
      ],
      "text/plain": [
       "1"
      ]
     },
     "execution_count": 107,
     "metadata": {},
     "output_type": "execute_result"
    }
   ],
   "source": [
    "# Проверка\n",
    "Det.det()"
   ]
  },
  {
   "cell_type": "markdown",
   "metadata": {},
   "source": [
    "Найдите собственные значения и собственные вектора матриц:\n",
    "m = np.array([[2, 2],\n",
    "[1, 3]])\n",
    "print(m)"
   ]
  },
  {
   "cell_type": "code",
   "execution_count": 108,
   "metadata": {},
   "outputs": [],
   "source": [
    "n = np.array([[1, 2], [2, 3]])\n",
    "m = Matrix([[1,2],[2,3]])"
   ]
  },
  {
   "cell_type": "code",
   "execution_count": 127,
   "metadata": {},
   "outputs": [
    {
     "data": {
      "image/png": "[encoded data removed]",
      "text/latex": [
       "$\\displaystyle \\left\\{ 2 - \\sqrt{5} : 1, \\  2 + \\sqrt{5} : 1\\right\\}$"
      ],
      "text/plain": [
       "{2 - √5: 1, 2 + √5: 1}"
      ]
     },
     "execution_count": 127,
     "metadata": {},
     "output_type": "execute_result"
    }
   ],
   "source": [
    "i, k = linalg.eig(n)\n",
    "m.eigenvals()"
   ]
  },
  {
   "cell_type": "code",
   "execution_count": 128,
   "metadata": {},
   "outputs": [
    {
     "name": "stdout",
     "output_type": "stream",
     "text": [
      "Собственное значение (-0.2360679774997898+0j)\n",
      "Собственное значение (4.23606797749979+0j)\n"
     ]
    }
   ],
   "source": [
    "for l in range(len(i)):\n",
    "    print(\"Собственное значение \" + str(i[l]))"
   ]
  },
  {
   "cell_type": "code",
   "execution_count": 130,
   "metadata": {},
   "outputs": [
    {
     "name": "stdout",
     "output_type": "stream",
     "text": [
      "Cобственный вектор [-0.85065081  0.52573111]\n",
      "Cобственный вектор [-0.52573111 -0.85065081]\n"
     ]
    }
   ],
   "source": [
    "for l in range(len(i)):\n",
    "    print(\"Cобственный вектор \" + str(k[:,l]))"
   ]
  },
  {
   "cell_type": "markdown",
   "metadata": {},
   "source": [
    "А вот с треугольными матрицами у меня сложности. Я неделю пытался разобраться, но я почему-то не понимаю, как они могут быть ортогональными даже в теории. Пожалуйста, укажите на мою ошибку или на что-то, что я упускаю."
   ]
  },
  {
   "cell_type": "code",
   "execution_count": 113,
   "metadata": {},
   "outputs": [],
   "source": [
    "# Создаём неопределённую верхнетреугольную матрицу"
   ]
  },
  {
   "cell_type": "code",
   "execution_count": 114,
   "metadata": {},
   "outputs": [
    {
     "data": {
      "text/latex": [
       "$\\displaystyle \\left[\\begin{matrix}a & b & c\\\\0 & d & e\\\\0 & 0 & f\\end{matrix}\\right]$"
      ],
      "text/plain": [
       "⎡a  b  c⎤\n",
       "⎢       ⎥\n",
       "⎢0  d  e⎥\n",
       "⎢       ⎥\n",
       "⎣0  0  f⎦"
      ]
     },
     "execution_count": 114,
     "metadata": {},
     "output_type": "execute_result"
    }
   ],
   "source": [
    "a, b, c, d, e, f = symbols('a b c d e f')\n",
    "M = Matrix([[a,b,c],[0,d,e],[0,0,f]])\n",
    "M"
   ]
  },
  {
   "cell_type": "code",
   "execution_count": 115,
   "metadata": {},
   "outputs": [],
   "source": [
    "# Согласно основополагающему свойству ортогональной матрицы результат произвежения её на транспонированную равен единичной матрице.\n",
    "# Задаём транспонированную матрицу"
   ]
  },
  {
   "cell_type": "code",
   "execution_count": 116,
   "metadata": {},
   "outputs": [
    {
     "data": {
      "text/latex": [
       "$\\displaystyle \\left[\\begin{matrix}a & 0 & 0\\\\b & d & 0\\\\c & e & f\\end{matrix}\\right]$"
      ],
      "text/plain": [
       "⎡a  0  0⎤\n",
       "⎢       ⎥\n",
       "⎢b  d  0⎥\n",
       "⎢       ⎥\n",
       "⎣c  e  f⎦"
      ]
     },
     "execution_count": 116,
     "metadata": {},
     "output_type": "execute_result"
    }
   ],
   "source": [
    "M.transpose()"
   ]
  },
  {
   "cell_type": "code",
   "execution_count": 117,
   "metadata": {},
   "outputs": [],
   "source": [
    "# При умножении должна получится матрица следующего вида (возможно ошибка здесь?):"
   ]
  },
  {
   "cell_type": "code",
   "execution_count": 118,
   "metadata": {},
   "outputs": [
    {
     "data": {
      "text/latex": [
       "$\\displaystyle \\left[\\begin{matrix}a^{2} + b^{2} + c^{2} & b d + c e & c f\\\\b d + c e & d^{2} + e^{2} & e f\\\\c f & e f & f^{2}\\end{matrix}\\right]$"
      ],
      "text/plain": [
       "⎡ 2    2    2                ⎤\n",
       "⎢a  + b  + c   b⋅d + c⋅e  c⋅f⎥\n",
       "⎢                            ⎥\n",
       "⎢                2    2      ⎥\n",
       "⎢ b⋅d + c⋅e     d  + e    e⋅f⎥\n",
       "⎢                            ⎥\n",
       "⎢                          2 ⎥\n",
       "⎣    c⋅f          e⋅f     f  ⎦"
      ]
     },
     "execution_count": 118,
     "metadata": {},
     "output_type": "execute_result"
    }
   ],
   "source": [
    "M_ = Matrix([[(a**2 + b**2 + c**2), (0 + b*d + c*e), (0 + 0 + c*f)],[(0 + b*d + e*c), (0 + d**2 + e**2), (0 + 0 + e*f)], [(0 + 0 + f*c), (0 + 0 + f*e), (0 + 0 + f**2)]])\n",
    "M_"
   ]
  },
  {
   "cell_type": "code",
   "execution_count": 119,
   "metadata": {},
   "outputs": [],
   "source": [
    "# Так как получившаяся матрица должна быть единичной, то мы получаем следующие равенства:"
   ]
  },
  {
   "cell_type": "code",
   "execution_count": 120,
   "metadata": {},
   "outputs": [
    {
     "name": "stdout",
     "output_type": "stream",
     "text": [
      "a**2 + b**2 + c**2 = 1\n",
      "bd + ce = 0\n",
      "cf = 0\n",
      "d**2 + e**2 = 1\n",
      "ef = 0\n",
      "f**2 = 1\n"
     ]
    }
   ],
   "source": [
    "print('a**2 + b**2 + c**2 = 1','bd + ce = 0','cf = 0','d**2 + e**2 = 1','ef = 0','f**2 = 1', sep = '\\n')"
   ]
  },
  {
   "cell_type": "code",
   "execution_count": 121,
   "metadata": {},
   "outputs": [],
   "source": [
    "# Из этого следует, что одно или более чисел на предполагаемо ненулевых диагоналях должны быть нулями."
   ]
  },
  {
   "cell_type": "code",
   "execution_count": 122,
   "metadata": {},
   "outputs": [],
   "source": [
    "# А значит исходная матрица не является треугольной. Пожалуйста, скажите, что в моей логике не так, мне самому уже очень интересно."
   ]
  }
 ],
 "metadata": {
  "kernelspec": {
   "display_name": "Python 3",
   "language": "python",
   "name": "python3"
  },
  "language_info": {
   "codemirror_mode": {
    "name": "ipython",
    "version": 3
   },
   "file_extension": ".py",
   "mimetype": "text/x-python",
   "name": "python",
   "nbconvert_exporter": "python",
   "pygments_lexer": "ipython3",
   "version": "3.7.6"
  }
 },
 "nbformat": 4,
 "nbformat_minor": 4
}
